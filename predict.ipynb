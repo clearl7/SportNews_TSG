{
 "cells": [
  {
   "cell_type": "code",
   "execution_count": 1,
   "metadata": {},
   "outputs": [
    {
     "name": "stderr",
     "output_type": "stream",
     "text": [
      "The tokenizer class you load from this checkpoint is not the same type as the class this function is called from. It may result in unexpected tokenization. \n",
      "The tokenizer class you load from this checkpoint is 'BartTokenizer'. \n",
      "The class this function is called from is 'BertTokenizer'.\n"
     ]
    }
   ],
   "source": [
    "import torch\n",
    "from torch import nn\n",
    "from torch.utils.data import DataLoader\n",
    "from transformers import BartForConditionalGeneration\n",
    "from data_process import text_preprocess, build_dataset, get_sentence_prediction\n",
    "from rouge import Rouge\n",
    "from tqdm import tqdm\n",
    "import pickle\n",
    "import time\n",
    "import datetime\n",
    "from config import config\n",
    "config = config()"
   ]
  },
  {
   "cell_type": "code",
   "execution_count": 2,
   "metadata": {},
   "outputs": [],
   "source": [
    "def predict(test_dataset, model, batch_size, is_test=True):\n",
    "    test_iter = DataLoader(test_dataset, batch_size, shuffle=False)\n",
    "    \n",
    "    model = model.to(device)\n",
    "    model.eval()\n",
    "    \n",
    "    sentence_target = []\n",
    "    sentence_pred = []\n",
    "    epoch_loss_test, epoch_acc_test = 0.0,0.0\n",
    "    with torch.no_grad():\n",
    "        start_time = time.time()\n",
    "        for inputs in tqdm(test_iter, desc=\"testing: \"):\n",
    "                inputs_1,inputs_2 = {},{}\n",
    "                for name in inputs.keys():\n",
    "                    inputs_1[name],inputs_2[name] = torch.chunk(inputs[name].long(), chunks=2, dim=1)\n",
    "                    inputs_1[name] = inputs_1[name].contiguous().to(device)\n",
    "                    inputs_2[name] = inputs_2[name].contiguous().to(device)\n",
    "                \n",
    "                if is_test:\n",
    "                    loss = torch.tensor([0.0])\n",
    "                    outputs = torch.tensor([])\n",
    "                    for inputs_ in [inputs_1,inputs_2]:\n",
    "                        outputs_dict = model(**inputs_) # outputs: [batch, seq_len, vocab_size]\n",
    "                        loss,outputs = loss+outputs_dict['loss'].item(), torch.cat((outputs, outputs_dict['logits'].cpu()), dim=1)\n",
    "                    batch_size,seq_len = outputs.size(0), outputs.size(1)\n",
    "\n",
    "                    batch_acc_test = torch.tensor([0.0])\n",
    "                    for predicted,target in zip(outputs, inputs['labels'].cpu()):\n",
    "                        batch_acc_test += (target == predicted.argmax(dim=1)).sum().item()/seq_len\n",
    "\n",
    "                    epoch_loss_test += loss.item()/batch_size\n",
    "                    epoch_acc_test += batch_acc_test.item()/batch_size\n",
    "                    \n",
    "                    batch_sentence_pred, batch_sentence_target = get_sentence_prediction(outputs, inputs['labels'].cpu())\n",
    "                    sentence_pred.extend(batch_sentence_pred)\n",
    "                    sentence_target.extend(batch_sentence_target)\n",
    "                    \n",
    "                else:\n",
    "                    outputs = torch.tensor([])\n",
    "                    for inputs_ in [inputs_1,inputs_2]:\n",
    "                        outputs_dict = model(**inputs_) # outputs: [batch, seq_len, vocab_size]\n",
    "                        outputs = torch.cat((outputs, outputs_dict['logits'].cpu()))\n",
    "        \n",
    "                    batch_sentence_pred= get_sentence_prediction(outputs)\n",
    "                    sentence_pred.extend(batch_sentence_pred)\n",
    "    \n",
    "    # 参数打印\n",
    "    if is_test:\n",
    "        duration = str(datetime.timedelta(seconds=time.time() - start_time))[:7]\n",
    "        print(\"Time: {} | test_loss: {:.3} | test_acc: {:.3}\".format(\n",
    "            duration, epoch_loss_test/len(test_iter), epoch_acc_test/len(test_iter)))\n",
    "        \n",
    "    torch.cuda.empty_cache()\n",
    "    return sentence_pred, sentence_target"
   ]
  },
  {
   "cell_type": "code",
   "execution_count": 3,
   "metadata": {},
   "outputs": [
    {
     "name": "stdout",
     "output_type": "stream",
     "text": [
      "device: cuda\n"
     ]
    },
    {
     "data": {
      "application/vnd.jupyter.widget-view+json": {
       "model_id": "5f13081b566d46af8e9df6c5f57e933b",
       "version_major": 2,
       "version_minor": 0
      },
      "text/plain": [
       "  0%|          | 0/1 [00:00<?, ?ba/s]"
      ]
     },
     "metadata": {},
     "output_type": "display_data"
    }
   ],
   "source": [
    "device = torch.device('cuda' if torch.cuda.is_available() else 'cpu')\n",
    "print('device:', device)\n",
    "is_test=True\n",
    "\n",
    "if is_test:\n",
    "    # 文本清洗\n",
    "    test_data = text_preprocess(config.test_path)\n",
    "    # 构建dataset\n",
    "    test_dataset = build_dataset(test_data)\n",
    "else:\n",
    "    with open(config.train_dataset, 'rb') as f:\n",
    "        test_dataset = pickle.load(f)\n",
    "\n",
    "model = BartForConditionalGeneration.from_pretrained(config.model_name)"
   ]
  },
  {
   "cell_type": "code",
   "execution_count": 4,
   "metadata": {},
   "outputs": [
    {
     "name": "stderr",
     "output_type": "stream",
     "text": [
      "testing: 100%|██████████| 63/63 [01:12<00:00,  1.16s/it]\n"
     ]
    },
    {
     "name": "stdout",
     "output_type": "stream",
     "text": [
      "Time: 0:01:12 | test_loss: 0.363 | test_acc: 0.675\n",
      "{'rouge-1': {'r': 0.7407703618808655, 'p': 0.8301389575131733, 'f': 0.7826470432601791}, 'rouge-2': {'r': 0.44291685246939977, 'p': 0.4246464920849807, 'f': 0.433483433469579}, 'rouge-l': {'r': 0.6710040981424625, 'p': 0.7518462901387658, 'f': 0.7088875704998725}}\n"
     ]
    }
   ],
   "source": [
    "try:\n",
    "    saved_model = torch.load(\"save_models/epoch_8.pkl\", map_location=device)\n",
    "    model.load_state_dict(saved_model['model_state_dict'])\n",
    "except:\n",
    "    print(\"load model state error!\")\n",
    "\n",
    "batch_size = 8\n",
    "sentence_pred, sentence_target = predict(test_dataset, model, batch_size)\n",
    "\n",
    "rouge = Rouge()\n",
    "scores = rouge.get_scores(sentence_pred, sentence_target, avg=True)\n",
    "print(scores)"
   ]
  },
  {
   "cell_type": "code",
   "execution_count": 11,
   "metadata": {},
   "outputs": [
    {
     "name": "stdout",
     "output_type": "stream",
     "text": [
      "{'r': 0.6697819314641744, 'p': 0.6304985337243402, 'f': 0.6495468227991256}\n",
      "{'r': 0.6409495548961425, 'p': 0.5869565217391305, 'f': 0.6127659524564761}\n",
      "{'r': 0.616519174041298, 'p': 0.5854341736694678, 'f': 0.6005747076470225}\n",
      "{'r': 0.6205882352941177, 'p': 0.5844875346260388, 'f': 0.6019971419374401}\n",
      "{'r': 0.6897590361445783, 'p': 0.6735294117647059, 'f': 0.6815476140483278}\n",
      "{'r': 0.6233062330623306, 'p': 0.5882352941176471, 'f': 0.6052631528989266}\n",
      "{'r': 0.640117994100295, 'p': 0.6061452513966481, 'f': 0.6226685746306883}\n",
      "{'r': 0.6013986013986014, 'p': 0.581081081081081, 'f': 0.591065287097696}\n",
      "{'r': 0.6026936026936027, 'p': 0.5507692307692308, 'f': 0.5755626959747625}\n",
      "{'r': 0.6184738955823293, 'p': 0.5945945945945946, 'f': 0.6062992076003628}\n"
     ]
    }
   ],
   "source": [
    "show_pred=[]\n",
    "show_target=[]\n",
    "for p,t in zip(sentence_pred,sentence_target):\n",
    "    score=rouge.get_scores(p,t)[0]['rouge-2']\n",
    "    if score['r']>=0.6:\n",
    "        show_pred.append(p)\n",
    "        show_target.append(t)\n",
    "        print(score)"
   ]
  },
  {
   "cell_type": "code",
   "execution_count": 30,
   "metadata": {},
   "outputs": [
    {
     "name": "stdout",
     "output_type": "stream",
     "text": [
      "\"correct\":  热刺开场115秒就取得领先，维尔通亨同贝尔踢墙配合后从左路突入禁区，最后在12码处的劲射打在埃文斯腿上偏转入近角。第8分钟，登贝莱传球，邓普西22码处左脚劲射偏出。1分钟后，桑德罗传球，列农突入禁区左侧的射门被费迪南德挡出底线。贝尔开出角球，考克尔远点头球攻门偏出。第12分钟，邓普西头球解围，范佩西禁区左侧的射门被前阿森纳队友加拉斯封堵。第21分钟，埃弗拉边路阻挡沃克尔犯规，贝尔任意球传中，维尔通亨8码处头球攻门高出。第23分钟，香川真司赢得禁区边缘外任意球，范佩西传射被贝尔挡出底线。热刺第32分钟扩大比分，登贝莱传球下半场，鲁尼替换吉格斯出场。曼联第51分钟扳回一城，范佩西分球右路，鲁尼传中，无人防守的纳尼前点小禁区边缘捅射破门，1-2。热刺第52分钟再度拉开差距，迪福摆脱费迪南德后直传，贝尔禁区左侧10码处劲射被林德加德勉强扑出，邓普西轻松打入空门，3-1。曼联第53分钟再度扳回一城，范佩西直传，沃克尔盯人不紧，香川真司拿球转身后11码处推射右下角入网，2-3。第55分钟，曼联解围角球，登贝莱传球，贝尔25码处左脚劲射偏出。2分钟后，埃弗拉传球，鲁尼禁区前劲射被弗里德尔没收。第61分钟，列农禁区前对香川真司犯规，鲁尼25码处任意球 \n",
      "\"predicted\":  热刺第场仅秒取取得领先，维尔通亨前埃尔踢墙配合后突中路突破禁区，面后的12码处的射射打在费文斯手上偏转入网角。第8分钟，邓贝莱传球，邓普西禁码处劲脚劲射偏出。第分钟后，列德罗传球，列农禁入禁区左侧的射门被费迪南德挡出底线。第尔对出角球，拉克尔头点头球攻门偏出近第14分钟，埃普西传球摆围失埃佩西禁区边侧的射门被封曼森纳边员哈拉挡挡堵。第14分钟，埃弗拉左路对挡维克尔犯规被范尔25意球传中，维尔通亨头码处头球攻门偏出。第24分钟，埃川真司传得禁区前缘外任意球机维佩西直射被挡尔挡出。线。第刺第26分钟扳大比分，埃贝莱传球下半场，吉尼替换吉格斯出场。曼联第50分钟扩回一城，范佩西直球右路，鲁尼传中，纳人防守的纳尼小点8禁区边缘捅射入门，1-2。第刺第54分钟再度拉开差距，迪福背脱埃迪南德后传传，贝尔禁区左侧12码处射射被林德加德勉强扑出，邓普西小松打入空门，3-1。第联第54分钟再度拉平一城，鲁佩西直传，鲁克尔禁人不紧，香川真司禁球转身摆禁码处低射远下角入网，2-3。第59分钟，列联解围角球，列贝莱传球，列尔禁码处劲脚劲射被出。第分钟后，列文拉传球，列尼禁区右劲射被林里德尔扑收。第58分钟，列农传区右射纳川真司犯规，范尼25码处任意球\n"
     ]
    }
   ],
   "source": [
    "print('\"correct\": ',show_target[2].replace(' ',''),'\\n\"predicted\": ',show_pred[2].replace(' ',''))"
   ]
  },
  {
   "cell_type": "code",
   "execution_count": null,
   "metadata": {},
   "outputs": [],
   "source": []
  }
 ],
 "metadata": {
  "kernelspec": {
   "display_name": "Python 3",
   "language": "python",
   "name": "python3"
  },
  "language_info": {
   "codemirror_mode": {
    "name": "ipython",
    "version": 3
   },
   "file_extension": ".py",
   "mimetype": "text/x-python",
   "name": "python",
   "nbconvert_exporter": "python",
   "pygments_lexer": "ipython3",
   "version": "3.6.9"
  }
 },
 "nbformat": 4,
 "nbformat_minor": 4
}
